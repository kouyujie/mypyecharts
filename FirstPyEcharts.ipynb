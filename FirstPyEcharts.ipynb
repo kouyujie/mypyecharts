{
 "cells": [
  {
   "cell_type": "code",
   "execution_count": 10,
   "metadata": {},
   "outputs": [],
   "source": [
    "#coding=utf-8\n",
    "from __future__ import unicode_literals\n",
    "from pyecharts import Bar\n",
    "import xlrd\n",
    "i = 1\n",
    "xx = []\n",
    "yy = []\n",
    "\n",
    "xx1 = []\n",
    "yy1 = []\n",
    "bar = Bar(\"每日任务量\", \"快修组\", width=1910, height=1060 )\n",
    "bar.use_theme('roma')\n",
    "\n",
    "try:\n",
    "    book = xlrd.open_workbook(u\"快修-产量、效率、质量模板.xlsx\")\n",
    "    s = book.sheet_by_index(1)\n",
    "\n",
    "    while i <= 20:\n",
    "        #print s.cell_value( 3+i,0 ),s.cell_value( 3+i,1 )\n",
    "        xx.append( s.cell_value( 3+i,0 ) )\n",
    "        yy.append( s.cell_value( 3+i,1 ) )\n",
    "        xx1.append( s.cell_value( 3+i,0 ) )\n",
    "        yy1.append( s.cell_value( 3+i,4 ) )\n",
    "        i += 1\n",
    "except IOError as err:\n",
    "    print('File error:' + str(err))\n",
    "\n",
    "bar.add(\"审核量\",xx,yy,mark_line=[\"average\"], mark_point=[\"max\", \"min\"],is_label_show = 1,label_pos = 'inside' , is_toolbox_show = False)\n",
    "bar.add(\"修改量\",xx1,yy1,mark_line=[\"average\"], mark_point=[\"max\", \"min\"],is_label_show = 1,label_pos = 'inside', is_toolbox_show = False)\n",
    "\n",
    "bar.render()"
   ]
  }
 ],
 "metadata": {
  "kernelspec": {
   "display_name": "Python 2",
   "language": "python",
   "name": "python2"
  },
  "language_info": {
   "codemirror_mode": {
    "name": "ipython",
    "version": 2
   },
   "file_extension": ".py",
   "mimetype": "text/x-python",
   "name": "python",
   "nbconvert_exporter": "python",
   "pygments_lexer": "ipython2",
   "version": "2.7.14"
  }
 },
 "nbformat": 4,
 "nbformat_minor": 2
}
