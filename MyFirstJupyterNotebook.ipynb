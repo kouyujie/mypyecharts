{
 "cells": [
  {
   "cell_type": "code",
   "execution_count": 7,
   "metadata": {},
   "outputs": [
    {
     "name": "stdout",
     "output_type": "stream",
     "text": [
      "hello world!\n"
     ]
    }
   ],
   "source": [
    "print ('hello'+ \" world!\")"
   ]
  },
  {
   "cell_type": "code",
   "execution_count": 8,
   "metadata": {},
   "outputs": [],
   "source": [
    "import xlwt"
   ]
  },
  {
   "cell_type": "code",
   "execution_count": null,
   "metadata": {},
   "outputs": [],
   "source": [
    "# %load readxls.py\n",
    "import xlrd\n",
    "xlsfile = r\"tt.xls\"# 打开指定路径中的xls文件\n",
    "book = xlrd.open_workbook(xlsfile)#得到Excel文件的book对象，实例化对象\n",
    "sheet0 = book.sheet_by_index(0) # 通过sheet索引获得sheet对象\n",
    "print \"1、\",sheet0\n",
    "sheet_name = book.sheet_names()[0]# 获得指定索引的sheet表名字\n",
    "print \"2、\",sheet_name\n",
    "sheet1 = book.sheet_by_name(sheet_name)# 通过sheet名字来获取，当然如果知道sheet名字就可以直接指定\n",
    "nrows = sheet0.nrows    # 获取行总数\n",
    "print \"3、\",nrows\n",
    "#循环打印每一行的内容\n",
    "for i in range(nrows):\n",
    "    print sheet1.row_values(i)\n",
    "ncols = sheet0.ncols    #获取列总数\n",
    "print \"4、\",ncols\n",
    "row_data = sheet0.row_values(0)     # 获得第1行的数据列表\n",
    "print row_data\n",
    "col_data = sheet0.col_values(0)     # 获得第1列的数据列表\n",
    "print \"5、\",col_data\n",
    "# 通过坐标读取表格中的数据\n",
    "cell_value1 = sheet0.cell_value(0, 0)\n",
    "print \"6、\",cell_value1\n",
    "cell_value2 = sheet0.cell_value(0, 1)\n",
    "print \"7、\",cell_value2\n"
   ]
  },
  {
   "cell_type": "code",
   "execution_count": 20,
   "metadata": {},
   "outputs": [],
   "source": [
    "# %load writexls.py\n",
    "#导入xlwt模块\n",
    "import xlwt\n",
    "# 创建一个Workbook对象，这就相当于创建了一个Excel文件\n",
    "book = xlwt.Workbook(encoding='utf-8', style_compression=0)\n",
    "'''\n",
    "Workbook类初始化时有encoding和style_compression参数\n",
    "encoding:设置字符编码，一般要这样设置：w = Workbook(encoding='utf-8')，就可以在excel中输出中文了。\n",
    "默认是ascii。当然要记得在文件头部添加：\n",
    "#!/usr/bin/env python\n",
    "# -*- coding: utf-8 -*-\n",
    "style_compression:表示是否压缩，不常用。\n",
    "'''\n",
    "#创建一个sheet对象，一个sheet对象对应Excel文件中的一张表格。\n",
    "sheet = book.add_sheet('球员名单', cell_overwrite_ok=True)\n",
    "# 其中的test是这张表的名字,cell_overwrite_ok，表示是否可以覆盖单元格，其实是Worksheet实例化的一个参数，默认值是False\n",
    "# 向表test中添加数据\n",
    "sheet.write(0, 0, 'EnglishName')  # 其中的'0-行, 0-列'指定表中的单元，'EnglishName'是向该单元写入的内容\n",
    "sheet.write(1, 0, 'Marcovaldo')\n",
    "sheet.write(2, 0, 'Rico')\n",
    "\n",
    "txt1 = '中文名'\n",
    "sheet.write(0, 1, txt1.decode('utf-8'))  # 此处需要将中文字符串解码成unicode码，否则会报错\n",
    "txt2 = '马可瓦多'\n",
    "sheet.write(1, 1, txt2.decode('utf-8'))\n",
    "txt3 = '寇宇杰'\n",
    "sheet.write(2, 1, txt3.decode('utf-8'))\n",
    " \n",
    "# 最后，将以上操作保存到指定的Excel文件中\n",
    "book.save(r'.\\tt.xls')  # 在字符串前加r，声明为raw字符串，这样就不会处理其中的转义了。否则，可能会报错\n"
   ]
  },
  {
   "cell_type": "code",
   "execution_count": 44,
   "metadata": {},
   "outputs": [
    {
     "name": "stdout",
     "output_type": "stream",
     "text": [
      "2、 5月效率、质量日汇总 \n"
     ]
    }
   ],
   "source": [
    "import xlrd\n",
    "xlsfile = r\"快修-产量、效率、质量模板.xlsx\"# 打开指定路径中的xls文件\n",
    "book = xlrd.open_workbook(xlsfile)#得到Excel文件的book对象，实例化对象\n",
    "sheet_name = book.sheet_names()[0]# 获得指定索引的sheet表名字\n",
    "print \"2、\",sheet_name"
   ]
  },
  {
   "cell_type": "code",
   "execution_count": 42,
   "metadata": {},
   "outputs": [
    {
     "name": "stdout",
     "output_type": "stream",
     "text": [
      "Rico 寇宇杰\n"
     ]
    }
   ],
   "source": [
    "# -*- coding: utf-8 -*-\n",
    "sheet1 = book.sheet_by_name(u'球员名单')\n",
    "txt1 = '中文缓冲区'\n",
    "txt1 = sheet1.row_values(2)\n",
    "#print txt1.decode('utf-8')\n",
    "print txt1[0],txt1[1]"
   ]
  },
  {
   "cell_type": "code",
   "execution_count": null,
   "metadata": {},
   "outputs": [],
   "source": [
    "n = 100\n",
    "while n > 0:\n",
    "    print(n)\n",
    "    n = n-1\n"
   ]
  },
  {
   "cell_type": "code",
   "execution_count": 157,
   "metadata": {},
   "outputs": [
    {
     "name": "stdout",
     "output_type": "stream",
     "text": [
      "Red balls is: [ 2 9 25 4 21 23 ]Blue ball is:[ 2]\n",
      "length: 15 长度值\n"
     ]
    }
   ],
   "source": [
    "import random\n",
    "\n",
    "str = \"Red balls is: [\"\n",
    "print( str,end = \" \" )\n",
    "print( random.choice(range(33)),end = \" \" )\n",
    "print( random.choice(range(33)),end = \" \" )\n",
    "print( random.choice(range(33)),end = \" \" )\n",
    "print( random.choice(range(33)),end = \" \" )\n",
    "print( random.choice(range(33)),end = \" \" )\n",
    "print( random.choice(range(33)),end = \" \" )\n",
    "\n",
    "print(\"]Blue ball is:[\",end = \" \")\n",
    "print( random.choice(range(16)),end = \"]\\n\")\n",
    "\n",
    "print( \"length:\",len(str),\"长度值\")"
   ]
  },
  {
   "cell_type": "code",
   "execution_count": 160,
   "metadata": {},
   "outputs": [
    {
     "name": "stdout",
     "output_type": "stream",
     "text": [
      "0 Google\n",
      "1 101\n",
      "2 Runo\n",
      "3 马云\n",
      "4 企鹅\n"
     ]
    }
   ],
   "source": [
    "a = ['Google', 101, 'Runo', '马云', '企鹅']\n",
    "for i in range(len(a)):\n",
    "    print(i, a[i])"
   ]
  },
  {
   "cell_type": "code",
   "execution_count": 162,
   "metadata": {},
   "outputs": [
    {
     "name": "stdout",
     "output_type": "stream",
     "text": [
      "hello,world! who am i?\n"
     ]
    }
   ],
   "source": [
    "def hello(str):\n",
    "    print(\"hello,world!\",str)\n",
    "    return\n",
    "hello(\"who am i?\")"
   ]
  }
 ],
 "metadata": {
  "kernelspec": {
   "display_name": "Python 3",
   "language": "python",
   "name": "python3"
  },
  "language_info": {
   "codemirror_mode": {
    "name": "ipython",
    "version": 3
   },
   "file_extension": ".py",
   "mimetype": "text/x-python",
   "name": "python",
   "nbconvert_exporter": "python",
   "pygments_lexer": "ipython3",
   "version": "3.6.4"
  }
 },
 "nbformat": 4,
 "nbformat_minor": 2
}
